{
 "cells": [
  {
   "cell_type": "code",
   "execution_count": 39,
   "metadata": {},
   "outputs": [],
   "source": [
    "import nltk\n",
    "from nltk.corpus import stopwords\n",
    "import numpy as np\n",
    "import glob\n",
    "import random\n",
    "import matplotlib.pyplot as plt\n",
    "from wordcloud import WordCloud\n",
    "porter = nltk.stem.PorterStemmer()\n",
    "from nltk.tokenize import RegexpTokenizer\n",
    "from sklearn.linear_model import LinearRegression\n",
    "from scipy import stats"
   ]
  },
  {
   "cell_type": "code",
   "execution_count": 40,
   "metadata": {},
   "outputs": [],
   "source": [
    "def read(fileName):  # Function reading a txt file and giving as output the number of occurence of each word (Only word)\n",
    "    f = open(fileName,encoding=\"utf-8\")\n",
    "    m = f.read()\n",
    "    token = RegexpTokenizer(r'\\w+')\n",
    "    token = token.tokenize(m)\n",
    "    token = [element for element in token if not element in stopwords.words('french') + stopwords.words('english')]  # Question 5 remove this line to include the stopword\n",
    "\n",
    "    totalWords = len(token)\n",
    "\n",
    "    stem = [porter.stem(w) for w in token]\n",
    "    stem = np.asarray(stem)\n",
    "    stemUnique = np.unique(stem)\n",
    "    stem = list(stem)\n",
    "\n",
    "\n",
    "    occurence = [[element, stem.count(element)] for element in stemUnique]\n",
    "    occurence.sort(key=lambda x: x[1])\n",
    "    occurence = occurence[::-1]\n",
    "\n",
    "\n",
    "    return occurence,stemUnique,totalWords\n",
    "\n"
   ]
  },
  {
   "cell_type": "code",
   "execution_count": 41,
   "metadata": {},
   "outputs": [],
   "source": [
    "##EXERCICE 2\n",
    "\n",
    "Frequencies,Vocabulary,TotalWords = read(\"VingMilleLieues.txt\")\n",
    "\n",
    "\n",
    "Probabilities = [element[1]/TotalWords for element in Frequencies]\n",
    "ProbabilitiesOverRank = [Probabilities[i]/(i+1) for i in range(len(Probabilities))]\n",
    "TheoricalProbabilities = [0.1/(i+1) for i in range(len(Probabilities))]\n",
    "\n",
    "ranks = [(i+1) for i in range(len(Frequencies))]\n"
   ]
  },
  {
   "cell_type": "code",
   "execution_count": 42,
   "metadata": {},
   "outputs": [],
   "source": [
    "slope, intercept, r, p, se = stats.linregress(ranks,Probabilities)"
   ]
  },
  {
   "cell_type": "code",
   "execution_count": 43,
   "metadata": {},
   "outputs": [
    {
     "data": {
      "image/png": "[encoded data removed]",
      "text/plain": [
       "<Figure size 432x288 with 1 Axes>"
      ]
     },
     "metadata": {
      "needs_background": "light"
     },
     "output_type": "display_data"
    }
   ],
   "source": [
    "plt.plot(ranks,Probabilities,\"o\",label=\"Practical\")\n",
    "plt.plot(ranks,TheoricalProbabilities,label=\"Theoretical\")\n",
    "slopeMult = [element * slope for element in ranks]\n",
    "plt.plot(ranks, intercept + slopeMult,'r',label=\"Linear Regression\")\n",
    "\n",
    "plt.xlabel(\"Ranks\")\n",
    "plt.ylabel(\"Probabilities\")\n",
    "\n",
    "plt.title(\"Probability for each rank\")\n",
    "\n",
    "plt.legend()\n",
    "plt.show()\n"
   ]
  },
  {
   "cell_type": "code",
   "execution_count": 44,
   "metadata": {},
   "outputs": [
    {
     "data": {
      "image/png": "[encoded data removed]",
      "text/plain": [
       "<Figure size 432x288 with 1 Axes>"
      ]
     },
     "metadata": {
      "needs_background": "light"
     },
     "output_type": "display_data"
    }
   ],
   "source": [
    "#Residual plot \n",
    "plt.plot(ranks,Probabilities-(intercept + slopeMult),label=\"Residual\")\n",
    "\n",
    "plt.xlabel(\"Ranks\")\n",
    "plt.ylabel(\"Probabilities\")\n",
    "\n",
    "plt.title(\"Residual\")\n",
    "\n",
    "plt.legend()\n",
    "plt.show()"
   ]
  },
  {
   "cell_type": "code",
   "execution_count": 45,
   "metadata": {},
   "outputs": [
    {
     "name": "stdout",
     "output_type": "stream",
     "text": [
      "R-squared: 0.113162\n",
      "P-Value: 0.000000\n"
     ]
    }
   ],
   "source": [
    "\n",
    "print(f\"R-squared: {r**2:.6f}\")\n",
    "print(f\"P-Value: {p**2:.6f}\")"
   ]
  },
  {
   "cell_type": "code",
   "execution_count": 56,
   "metadata": {},
   "outputs": [
    {
     "name": "stdout",
     "output_type": "stream",
     "text": [
      "4 Very frequent words:  nemo capitain _nautilus_ mer\n",
      "3 Averagely Frequent Words:  être dit heur\n",
      "3 Very Rare Words:  chéri chère châteaux\n"
     ]
    }
   ],
   "source": [
    "print(\"4 Very frequent words: \",Frequencies[7][0],Frequencies[1][0],Frequencies[5][0],Frequencies[6][0])\n",
    "print(\"3 Averagely Frequent Words: \",Frequencies[23][0],Frequencies[24][0],Frequencies[25][0])\n",
    "print(\"3 Very Rare Words: \",Frequencies[11000][0],Frequencies[11001][0],Frequencies[11002][0])"
   ]
  },
  {
   "cell_type": "code",
   "execution_count": 47,
   "metadata": {},
   "outputs": [],
   "source": [
    "## EXERCICE 1\n",
    "\n",
    "\n",
    "\n",
    "\n",
    "def computeRP(rankList,relevantList,threshold):\n",
    "    hypPositif = rankList[0:threshold]\n",
    "    hypNegatif = rankList[threshold:-1]\n",
    "\n",
    "    \n",
    "    truePositif = 0 \n",
    "    falsePositif = 0 \n",
    "    falseNegatif = 0 \n",
    "    \n",
    "    \n",
    "    for element in hypPositif:\n",
    "        if relevantList[element] == 1:\n",
    "            truePositif += 1\n",
    "            \n",
    "        if relevantList[element] == 0:\n",
    "            falsePositif += 1\n",
    "    \n",
    "    for element in hypNegatif:\n",
    "        if relevantList[element] == 1:\n",
    "            falseNegatif += 1 \n",
    "            \n",
    "\n",
    "    p = truePositif/(truePositif+falsePositif)\n",
    "    r = truePositif/(truePositif+falseNegatif)\n",
    "    \n",
    "    \n",
    "    return p,r\n",
    "\n",
    "\n"
   ]
  },
  {
   "cell_type": "code",
   "execution_count": 48,
   "metadata": {},
   "outputs": [],
   "source": [
    "#generate Two random queries\n",
    "\n",
    "N = 50\n",
    "\n",
    "rankList1 = random.sample(range(0,N),N)\n",
    "relevantList1 = [random.randint(0,1) for i in range(N)]\n",
    "\n",
    "rankList2 = random.sample(range(0,N),N)\n",
    "relevantList2 = [random.randint(0,1) for i in range(N)]\n",
    "\n",
    "\n",
    "\n"
   ]
  },
  {
   "cell_type": "code",
   "execution_count": 49,
   "metadata": {},
   "outputs": [
    {
     "data": {
      "image/png": "[encoded data removed]",
      "text/plain": [
       "<Figure size 432x288 with 1 Axes>"
      ]
     },
     "metadata": {
      "needs_background": "light"
     },
     "output_type": "display_data"
    },
    {
     "data": {
      "image/png": "[encoded data removed]",
      "text/plain": [
       "<Figure size 432x288 with 1 Axes>"
      ]
     },
     "metadata": {
      "needs_background": "light"
     },
     "output_type": "display_data"
    }
   ],
   "source": [
    "r = [computeRP(rankList1,relevantList1,i)[1] for i in range(1,N)]\n",
    "p = [computeRP(rankList1,relevantList1,i)[0] for i in range(1,N)]\n",
    "plt.plot(r,p)\n",
    "plt.xlabel(\"R\")\n",
    "plt.ylabel(\"P\")\n",
    "plt.title(\"First query\")\n",
    "plt.show()\n",
    "\n",
    "r2 = [computeRP(rankList2,relevantList1,i)[1] for i in range(1,N)]\n",
    "p2 = [computeRP(rankList2,relevantList1,i)[0] for i in range(1,N)]\n",
    "plt.plot(r2,p2)\n",
    "plt.xlabel(\"R\")\n",
    "plt.ylabel(\"P\")\n",
    "\n",
    "plt.title(\"Second query\")\n",
    "plt.show()\n"
   ]
  },
  {
   "cell_type": "code",
   "execution_count": 50,
   "metadata": {},
   "outputs": [],
   "source": [
    "#Average 11 point technique\n",
    "rAverage = np.arange(0,1.1,0.1)"
   ]
  },
  {
   "cell_type": "code",
   "execution_count": 57,
   "metadata": {},
   "outputs": [],
   "source": [
    "## 11 points technique\n",
    "\n",
    "eps = 0.08\n",
    "\n",
    "pAver1 = []\n",
    "for element in rAverage:\n",
    "    \n",
    "    indexes = []\n",
    "    for mesure in r:\n",
    "        if abs(mesure - element) <= eps:\n",
    "            indexes.append(mesure)\n",
    "    \n",
    "    p_cor = []\n",
    "    for ind in indexes:\n",
    "        p_cor.append(p[r.index(ind)])\n",
    "    \n",
    "    pAver1.append(max(p_cor))\n",
    "\n",
    "    \n",
    "    "
   ]
  },
  {
   "cell_type": "code",
   "execution_count": 52,
   "metadata": {},
   "outputs": [],
   "source": [
    "pAver2 = []\n",
    "for element in rAverage:\n",
    "    \n",
    "    indexes = []\n",
    "    for mesure in r2:\n",
    "        if abs(mesure - element) <= eps:\n",
    "            indexes.append(mesure)\n",
    "    \n",
    "    p_cor = []\n",
    "    for ind in indexes:\n",
    "         p_cor.append(p2[r2.index(ind)])\n",
    "    \n",
    "    pAver2.append(max(p_cor))\n",
    "    \n"
   ]
  },
  {
   "cell_type": "code",
   "execution_count": 53,
   "metadata": {},
   "outputs": [],
   "source": [
    "pAverg = [(i + j)/2 for i,j in zip(pAver2,pAver1)]"
   ]
  },
  {
   "cell_type": "code",
   "execution_count": 54,
   "metadata": {},
   "outputs": [
    {
     "data": {
      "image/png": "[encoded data removed]",
      "text/plain": [
       "<Figure size 432x288 with 1 Axes>"
      ]
     },
     "metadata": {
      "needs_background": "light"
     },
     "output_type": "display_data"
    }
   ],
   "source": [
    "plt.plot(rAverage,pAverg)\n",
    "plt.xlabel(\"R\")\n",
    "plt.ylabel(\"P\")\n",
    "\n",
    "plt.title(\"11 points technique\")\n",
    "\n",
    "plt.show()"
   ]
  }
 ],
 "metadata": {
  "kernelspec": {
   "display_name": "Python 3",
   "language": "python",
   "name": "python3"
  },
  "language_info": {
   "codemirror_mode": {
    "name": "ipython",
    "version": 3
   },
   "file_extension": ".py",
   "mimetype": "text/x-python",
   "name": "python",
   "nbconvert_exporter": "python",
   "pygments_lexer": "ipython3",
   "version": "3.8.2"
  }
 },
 "nbformat": 4,
 "nbformat_minor": 4
}
